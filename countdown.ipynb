{
 "cells": [
  {
   "cell_type": "code",
   "execution_count": 40,
   "metadata": {
    "collapsed": true
   },
   "outputs": [],
   "source": [
    "from datetime import datetime"
   ]
  },
  {
   "cell_type": "code",
   "execution_count": 41,
   "outputs": [],
   "source": [
    "start = datetime.strptime('Oct 17 2022  17:00', '%b %d %Y %H:%M')  # Monday of o-week\n",
    "quiz_1 = datetime.strptime('Nov 07 2022 23:00', '%b %d %Y %H:%M')  # 10%\n",
    "quiz_2 = datetime.strptime('Nov 14 2022 23:00', '%b %d %Y %H:%M')  # 10%\n",
    "quiz_3 = datetime.strptime('Nov 21 2022 23:00', '%b %d %Y %H:%M')  # 10%\n",
    "quiz_4 = datetime.strptime('Nov 28 2022 23:00', '%b %d %Y %H:%M')  # 10%\n",
    "quiz_5 = datetime.strptime('Dec 05 2022 23:00', '%b %d %Y %H:%M')  # 10%\n",
    "quiz_6 = datetime.strptime('Dec 12 2022 23:00', '%b %d %Y %H:%M')  # 10%\n",
    "project = datetime.strptime('Dec 12 2022 23:00', '%b %d %Y %H:%M')  # 40%"
   ],
   "metadata": {
    "collapsed": false
   }
  },
  {
   "cell_type": "code",
   "execution_count": 42,
   "outputs": [],
   "source": [
    "nowdate = datetime.now()\n",
    "count_1 = int((quiz_1 - nowdate).total_seconds())\n",
    "count_2 = int((quiz_2 - nowdate).total_seconds())\n",
    "count_3 = int((quiz_3 - nowdate).total_seconds())\n",
    "count_4 = int((quiz_4 - nowdate).total_seconds())\n",
    "count_5 = int((quiz_5 - nowdate).total_seconds())\n",
    "count_6 = int((quiz_6 - nowdate).total_seconds())\n",
    "count_7 = int((project - nowdate).total_seconds())"
   ],
   "metadata": {
    "collapsed": false
   }
  },
  {
   "cell_type": "code",
   "execution_count": 43,
   "outputs": [
    {
     "name": "stdout",
     "output_type": "stream",
     "text": [
      "8 days 3 hours 51 minutes 33 seconds until quiz 1\n"
     ]
    }
   ],
   "source": [
    "# quiz_1\n",
    "days = count_1 // 86400\n",
    "hours = (count_1 - days * 86400) // 3600\n",
    "minutes = (count_1 - days * 86400 - hours * 3600) // 60\n",
    "seconds = count_1 - days * 86400 - hours * 3600 - minutes * 60\n",
    "print(f\"{days} days {hours} hours {minutes} minutes {seconds} seconds until quiz 1\")"
   ],
   "metadata": {
    "collapsed": false
   }
  },
  {
   "cell_type": "code",
   "execution_count": 44,
   "outputs": [
    {
     "name": "stdout",
     "output_type": "stream",
     "text": [
      "15 days 3 hours 51 minutes 33 seconds until quiz 2\n"
     ]
    }
   ],
   "source": [
    "# quiz_2\n",
    "days = count_2 // 86400\n",
    "hours = (count_2 - days * 86400) // 3600\n",
    "minutes = (count_2 - days * 86400 - hours * 3600) // 60\n",
    "seconds = count_2 - days * 86400 - hours * 3600 - minutes * 60\n",
    "print(f\"{days} days {hours} hours {minutes} minutes {seconds} seconds until quiz 2\")"
   ],
   "metadata": {
    "collapsed": false
   }
  },
  {
   "cell_type": "code",
   "execution_count": 45,
   "outputs": [
    {
     "name": "stdout",
     "output_type": "stream",
     "text": [
      "22 days 3 hours 51 minutes 33 seconds until quiz 3\n"
     ]
    }
   ],
   "source": [
    "# quiz_3\n",
    "days = count_3 // 86400\n",
    "hours = (count_3 - days * 86400) // 3600\n",
    "minutes = (count_3 - days * 86400 - hours * 3600) // 60\n",
    "seconds = count_3 - days * 86400 - hours * 3600 - minutes * 60\n",
    "print(f\"{days} days {hours} hours {minutes} minutes {seconds} seconds until quiz 3\")"
   ],
   "metadata": {
    "collapsed": false
   }
  },
  {
   "cell_type": "code",
   "execution_count": 46,
   "outputs": [
    {
     "name": "stdout",
     "output_type": "stream",
     "text": [
      "29 days 3 hours 51 minutes 33 seconds until quiz 4\n"
     ]
    }
   ],
   "source": [
    "# todo: quiz_4\n",
    "days = count_4 // 86400\n",
    "hours = (count_4 - days * 86400) // 3600\n",
    "minutes = (count_4 - days * 86400 - hours * 3600) // 60\n",
    "seconds = count_4 - days * 86400 - hours * 3600 - minutes * 60\n",
    "print(f\"{days} days {hours} hours {minutes} minutes {seconds} seconds until quiz 4\")"
   ],
   "metadata": {
    "collapsed": false
   }
  },
  {
   "cell_type": "code",
   "execution_count": 47,
   "outputs": [
    {
     "name": "stdout",
     "output_type": "stream",
     "text": [
      "36 days 3 hours 51 minutes 33 seconds until quiz 5\n"
     ]
    }
   ],
   "source": [
    "# todo: quiz_5\n",
    "days = count_5 // 86400\n",
    "hours = (count_5 - days * 86400) // 3600\n",
    "minutes = (count_5 - days * 86400 - hours * 3600) // 60\n",
    "seconds = count_5 - days * 86400 - hours * 3600 - minutes * 60\n",
    "print(f\"{days} days {hours} hours {minutes} minutes {seconds} seconds until quiz 5\")"
   ],
   "metadata": {
    "collapsed": false
   }
  },
  {
   "cell_type": "code",
   "execution_count": 48,
   "outputs": [
    {
     "name": "stdout",
     "output_type": "stream",
     "text": [
      "43 days 3 hours 51 minutes 33 seconds until quiz 6\n"
     ]
    }
   ],
   "source": [
    "# todo: quiz_6\n",
    "days = count_6 // 86400\n",
    "hours = (count_6 - days * 86400) // 3600\n",
    "minutes = (count_6 - days * 86400 - hours * 3600) // 60\n",
    "seconds = count_6 - days * 86400 - hours * 3600 - minutes * 60\n",
    "print(f\"{days} days {hours} hours {minutes} minutes {seconds} seconds until quiz 6\")"
   ],
   "metadata": {
    "collapsed": false
   }
  },
  {
   "cell_type": "code",
   "execution_count": 49,
   "outputs": [
    {
     "name": "stdout",
     "output_type": "stream",
     "text": [
      "43 days 3 hours 51 minutes 33 seconds until project\n"
     ]
    }
   ],
   "source": [
    "# todo: project\n",
    "days = count_7 // 86400\n",
    "hours = (count_6 - days * 86400) // 3600\n",
    "minutes = (count_6 - days * 86400 - hours * 3600) // 60\n",
    "seconds = count_6 - days * 86400 - hours * 3600 - minutes * 60\n",
    "print(f\"{days} days {hours} hours {minutes} minutes {seconds} seconds until project\")"
   ],
   "metadata": {
    "collapsed": false
   }
  }
 ],
 "metadata": {
  "kernelspec": {
   "display_name": "Python 3",
   "language": "python",
   "name": "python3"
  },
  "language_info": {
   "codemirror_mode": {
    "name": "ipython",
    "version": 2
   },
   "file_extension": ".py",
   "mimetype": "text/x-python",
   "name": "python",
   "nbconvert_exporter": "python",
   "pygments_lexer": "ipython2",
   "version": "2.7.6"
  }
 },
 "nbformat": 4,
 "nbformat_minor": 0
}
